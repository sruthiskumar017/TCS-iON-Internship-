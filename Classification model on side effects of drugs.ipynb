{
 "cells": [
  {
   "cell_type": "markdown",
   "metadata": {},
   "source": [
    "# DATA"
   ]
  },
  {
   "cell_type": "code",
   "execution_count": 1,
   "metadata": {},
   "outputs": [],
   "source": [
    "import pandas as pd\n",
    "import numpy as np\n",
    "import seaborn as sns\n",
    "import matplotlib.pyplot as plt\n",
    "\n",
    "import warnings\n",
    "warnings.filterwarnings('ignore')"
   ]
  },
  {
   "cell_type": "code",
   "execution_count": 2,
   "metadata": {},
   "outputs": [],
   "source": [
    "data=pd.read_csv('C:/Users/User1/Downloads/Drug_Side_effects.csv')"
   ]
  },
  {
   "cell_type": "code",
   "execution_count": 3,
   "metadata": {},
   "outputs": [
    {
     "data": {
      "text/html": [
       "<div>\n",
       "<style scoped>\n",
       "    .dataframe tbody tr th:only-of-type {\n",
       "        vertical-align: middle;\n",
       "    }\n",
       "\n",
       "    .dataframe tbody tr th {\n",
       "        vertical-align: top;\n",
       "    }\n",
       "\n",
       "    .dataframe thead th {\n",
       "        text-align: right;\n",
       "    }\n",
       "</style>\n",
       "<table border=\"1\" class=\"dataframe\">\n",
       "  <thead>\n",
       "    <tr style=\"text-align: right;\">\n",
       "      <th></th>\n",
       "      <th>Name</th>\n",
       "      <th>Age</th>\n",
       "      <th>Race</th>\n",
       "      <th>Condition</th>\n",
       "      <th>Date</th>\n",
       "      <th>Drug</th>\n",
       "      <th>EaseofUse</th>\n",
       "      <th>Effectiveness</th>\n",
       "      <th>Sex</th>\n",
       "      <th>Sides</th>\n",
       "    </tr>\n",
       "  </thead>\n",
       "  <tbody>\n",
       "    <tr>\n",
       "      <th>0</th>\n",
       "      <td>Brandon Jordan</td>\n",
       "      <td>51-60</td>\n",
       "      <td>Asian</td>\n",
       "      <td>Pain</td>\n",
       "      <td>9/21/2014</td>\n",
       "      <td>choline mag trisalicylate</td>\n",
       "      <td>5</td>\n",
       "      <td>5</td>\n",
       "      <td>female</td>\n",
       "      <td>no side effects</td>\n",
       "    </tr>\n",
       "    <tr>\n",
       "      <th>1</th>\n",
       "      <td>Todd Gardner</td>\n",
       "      <td>31-40</td>\n",
       "      <td>White</td>\n",
       "      <td>Pain</td>\n",
       "      <td>1/13/2011</td>\n",
       "      <td>lortab</td>\n",
       "      <td>5</td>\n",
       "      <td>5</td>\n",
       "      <td>female</td>\n",
       "      <td>no side effects</td>\n",
       "    </tr>\n",
       "    <tr>\n",
       "      <th>2</th>\n",
       "      <td>Phillip Medina</td>\n",
       "      <td>31-40</td>\n",
       "      <td>White</td>\n",
       "      <td>High Cholesterol</td>\n",
       "      <td>7/16/2012</td>\n",
       "      <td>cholestyramine light 4 gram oral powde</td>\n",
       "      <td>2</td>\n",
       "      <td>3</td>\n",
       "      <td>female</td>\n",
       "      <td>moderate side effects</td>\n",
       "    </tr>\n",
       "    <tr>\n",
       "      <th>3</th>\n",
       "      <td>Lisa Price</td>\n",
       "      <td>71-80</td>\n",
       "      <td>White</td>\n",
       "      <td>Pain</td>\n",
       "      <td>9/23/2010</td>\n",
       "      <td>lortab</td>\n",
       "      <td>2</td>\n",
       "      <td>2</td>\n",
       "      <td>female</td>\n",
       "      <td>extreme severe side effects</td>\n",
       "    </tr>\n",
       "    <tr>\n",
       "      <th>4</th>\n",
       "      <td>Anthony Davis</td>\n",
       "      <td>71-80</td>\n",
       "      <td>Hispanic</td>\n",
       "      <td>Birth Control</td>\n",
       "      <td>1/6/2009</td>\n",
       "      <td>chateal</td>\n",
       "      <td>1</td>\n",
       "      <td>1</td>\n",
       "      <td>female</td>\n",
       "      <td>extreme severe side effects</td>\n",
       "    </tr>\n",
       "    <tr>\n",
       "      <th>...</th>\n",
       "      <td>...</td>\n",
       "      <td>...</td>\n",
       "      <td>...</td>\n",
       "      <td>...</td>\n",
       "      <td>...</td>\n",
       "      <td>...</td>\n",
       "      <td>...</td>\n",
       "      <td>...</td>\n",
       "      <td>...</td>\n",
       "      <td>...</td>\n",
       "    </tr>\n",
       "    <tr>\n",
       "      <th>362798</th>\n",
       "      <td>Melanie Stewart</td>\n",
       "      <td>61-70</td>\n",
       "      <td>White</td>\n",
       "      <td>High Blood Pressure</td>\n",
       "      <td>11/14/2008</td>\n",
       "      <td>chlorothiazide</td>\n",
       "      <td>5</td>\n",
       "      <td>5</td>\n",
       "      <td>female</td>\n",
       "      <td>no side effects</td>\n",
       "    </tr>\n",
       "    <tr>\n",
       "      <th>362799</th>\n",
       "      <td>Robert Steele</td>\n",
       "      <td>31-40</td>\n",
       "      <td>White</td>\n",
       "      <td>High Blood Pressure</td>\n",
       "      <td>11/14/2008</td>\n",
       "      <td>lotrel</td>\n",
       "      <td>2</td>\n",
       "      <td>3</td>\n",
       "      <td>male</td>\n",
       "      <td>extreme severe side effects</td>\n",
       "    </tr>\n",
       "    <tr>\n",
       "      <th>362800</th>\n",
       "      <td>Samuel York</td>\n",
       "      <td>NaN</td>\n",
       "      <td>NaN</td>\n",
       "      <td>NaN</td>\n",
       "      <td>11/13/2008</td>\n",
       "      <td>NaN</td>\n",
       "      <td>2</td>\n",
       "      <td>4</td>\n",
       "      <td>NaN</td>\n",
       "      <td>severe side effects</td>\n",
       "    </tr>\n",
       "    <tr>\n",
       "      <th>362801</th>\n",
       "      <td>Jordan Brooks</td>\n",
       "      <td>NaN</td>\n",
       "      <td>NaN</td>\n",
       "      <td>NaN</td>\n",
       "      <td>11/13/2008</td>\n",
       "      <td>NaN</td>\n",
       "      <td>5</td>\n",
       "      <td>5</td>\n",
       "      <td>NaN</td>\n",
       "      <td>no side effects</td>\n",
       "    </tr>\n",
       "    <tr>\n",
       "      <th>362802</th>\n",
       "      <td>Ronald Harris</td>\n",
       "      <td>NaN</td>\n",
       "      <td>NaN</td>\n",
       "      <td>NaN</td>\n",
       "      <td>11/12/2008</td>\n",
       "      <td>NaN</td>\n",
       "      <td>4</td>\n",
       "      <td>5</td>\n",
       "      <td>NaN</td>\n",
       "      <td>no side effects</td>\n",
       "    </tr>\n",
       "  </tbody>\n",
       "</table>\n",
       "<p>362803 rows × 10 columns</p>\n",
       "</div>"
      ],
      "text/plain": [
       "                   Name    Age      Race            Condition        Date  \\\n",
       "0        Brandon Jordan  51-60     Asian                 Pain   9/21/2014   \n",
       "1          Todd Gardner  31-40     White                 Pain   1/13/2011   \n",
       "2        Phillip Medina  31-40     White     High Cholesterol   7/16/2012   \n",
       "3            Lisa Price  71-80     White                 Pain   9/23/2010   \n",
       "4         Anthony Davis  71-80  Hispanic        Birth Control    1/6/2009   \n",
       "...                 ...    ...       ...                  ...         ...   \n",
       "362798  Melanie Stewart  61-70     White  High Blood Pressure  11/14/2008   \n",
       "362799    Robert Steele  31-40     White  High Blood Pressure  11/14/2008   \n",
       "362800      Samuel York    NaN       NaN                  NaN  11/13/2008   \n",
       "362801    Jordan Brooks    NaN       NaN                  NaN  11/13/2008   \n",
       "362802    Ronald Harris    NaN       NaN                  NaN  11/12/2008   \n",
       "\n",
       "                                          Drug  EaseofUse  Effectiveness  \\\n",
       "0                    choline mag trisalicylate          5              5   \n",
       "1                                       lortab          5              5   \n",
       "2       cholestyramine light 4 gram oral powde          2              3   \n",
       "3                                       lortab          2              2   \n",
       "4                                      chateal          1              1   \n",
       "...                                        ...        ...            ...   \n",
       "362798                          chlorothiazide          5              5   \n",
       "362799                                  lotrel          2              3   \n",
       "362800                                     NaN          2              4   \n",
       "362801                                     NaN          5              5   \n",
       "362802                                     NaN          4              5   \n",
       "\n",
       "           Sex                        Sides  \n",
       "0       female              no side effects  \n",
       "1       female              no side effects  \n",
       "2       female        moderate side effects  \n",
       "3       female  extreme severe side effects  \n",
       "4       female  extreme severe side effects  \n",
       "...        ...                          ...  \n",
       "362798  female              no side effects  \n",
       "362799    male  extreme severe side effects  \n",
       "362800     NaN          severe side effects  \n",
       "362801     NaN              no side effects  \n",
       "362802     NaN              no side effects  \n",
       "\n",
       "[362803 rows x 10 columns]"
      ]
     },
     "execution_count": 3,
     "metadata": {},
     "output_type": "execute_result"
    }
   ],
   "source": [
    "data"
   ]
  },
  {
   "cell_type": "code",
   "execution_count": 4,
   "metadata": {},
   "outputs": [
    {
     "data": {
      "text/plain": [
       "(362803, 10)"
      ]
     },
     "execution_count": 4,
     "metadata": {},
     "output_type": "execute_result"
    }
   ],
   "source": [
    "data.shape"
   ]
  },
  {
   "cell_type": "code",
   "execution_count": 5,
   "metadata": {},
   "outputs": [
    {
     "data": {
      "text/plain": [
       "Index(['Name', 'Age', 'Race', 'Condition', 'Date', 'Drug', 'EaseofUse',\n",
       "       'Effectiveness', 'Sex', 'Sides'],\n",
       "      dtype='object')"
      ]
     },
     "execution_count": 5,
     "metadata": {},
     "output_type": "execute_result"
    }
   ],
   "source": [
    "data.columns"
   ]
  },
  {
   "cell_type": "code",
   "execution_count": 6,
   "metadata": {},
   "outputs": [
    {
     "name": "stdout",
     "output_type": "stream",
     "text": [
      "<class 'pandas.core.frame.DataFrame'>\n",
      "RangeIndex: 362803 entries, 0 to 362802\n",
      "Data columns (total 10 columns):\n",
      " #   Column         Non-Null Count   Dtype \n",
      "---  ------         --------------   ----- \n",
      " 0   Name           362803 non-null  object\n",
      " 1   Age            362800 non-null  object\n",
      " 2   Race           362800 non-null  object\n",
      " 3   Condition      362800 non-null  object\n",
      " 4   Date           362803 non-null  object\n",
      " 5   Drug           362800 non-null  object\n",
      " 6   EaseofUse      362803 non-null  int64 \n",
      " 7   Effectiveness  362803 non-null  int64 \n",
      " 8   Sex            362800 non-null  object\n",
      " 9   Sides          362803 non-null  object\n",
      "dtypes: int64(2), object(8)\n",
      "memory usage: 27.7+ MB\n"
     ]
    }
   ],
   "source": [
    "data.info()"
   ]
  },
  {
   "cell_type": "code",
   "execution_count": 7,
   "metadata": {},
   "outputs": [
    {
     "data": {
      "text/html": [
       "<div>\n",
       "<style scoped>\n",
       "    .dataframe tbody tr th:only-of-type {\n",
       "        vertical-align: middle;\n",
       "    }\n",
       "\n",
       "    .dataframe tbody tr th {\n",
       "        vertical-align: top;\n",
       "    }\n",
       "\n",
       "    .dataframe thead th {\n",
       "        text-align: right;\n",
       "    }\n",
       "</style>\n",
       "<table border=\"1\" class=\"dataframe\">\n",
       "  <thead>\n",
       "    <tr style=\"text-align: right;\">\n",
       "      <th></th>\n",
       "      <th>EaseofUse</th>\n",
       "      <th>Effectiveness</th>\n",
       "    </tr>\n",
       "  </thead>\n",
       "  <tbody>\n",
       "    <tr>\n",
       "      <th>count</th>\n",
       "      <td>362803.000000</td>\n",
       "      <td>362803.000000</td>\n",
       "    </tr>\n",
       "    <tr>\n",
       "      <th>mean</th>\n",
       "      <td>4.019801</td>\n",
       "      <td>3.532030</td>\n",
       "    </tr>\n",
       "    <tr>\n",
       "      <th>std</th>\n",
       "      <td>1.317671</td>\n",
       "      <td>1.455916</td>\n",
       "    </tr>\n",
       "    <tr>\n",
       "      <th>min</th>\n",
       "      <td>1.000000</td>\n",
       "      <td>1.000000</td>\n",
       "    </tr>\n",
       "    <tr>\n",
       "      <th>25%</th>\n",
       "      <td>3.000000</td>\n",
       "      <td>3.000000</td>\n",
       "    </tr>\n",
       "    <tr>\n",
       "      <th>50%</th>\n",
       "      <td>5.000000</td>\n",
       "      <td>4.000000</td>\n",
       "    </tr>\n",
       "    <tr>\n",
       "      <th>75%</th>\n",
       "      <td>5.000000</td>\n",
       "      <td>5.000000</td>\n",
       "    </tr>\n",
       "    <tr>\n",
       "      <th>max</th>\n",
       "      <td>5.000000</td>\n",
       "      <td>5.000000</td>\n",
       "    </tr>\n",
       "  </tbody>\n",
       "</table>\n",
       "</div>"
      ],
      "text/plain": [
       "           EaseofUse  Effectiveness\n",
       "count  362803.000000  362803.000000\n",
       "mean        4.019801       3.532030\n",
       "std         1.317671       1.455916\n",
       "min         1.000000       1.000000\n",
       "25%         3.000000       3.000000\n",
       "50%         5.000000       4.000000\n",
       "75%         5.000000       5.000000\n",
       "max         5.000000       5.000000"
      ]
     },
     "execution_count": 7,
     "metadata": {},
     "output_type": "execute_result"
    }
   ],
   "source": [
    "data.describe()"
   ]
  },
  {
   "cell_type": "code",
   "execution_count": 8,
   "metadata": {},
   "outputs": [
    {
     "data": {
      "text/html": [
       "<div>\n",
       "<style scoped>\n",
       "    .dataframe tbody tr th:only-of-type {\n",
       "        vertical-align: middle;\n",
       "    }\n",
       "\n",
       "    .dataframe tbody tr th {\n",
       "        vertical-align: top;\n",
       "    }\n",
       "\n",
       "    .dataframe thead th {\n",
       "        text-align: right;\n",
       "    }\n",
       "</style>\n",
       "<table border=\"1\" class=\"dataframe\">\n",
       "  <thead>\n",
       "    <tr style=\"text-align: right;\">\n",
       "      <th></th>\n",
       "      <th>Name</th>\n",
       "      <th>Age</th>\n",
       "      <th>Race</th>\n",
       "      <th>Condition</th>\n",
       "      <th>Date</th>\n",
       "      <th>Drug</th>\n",
       "      <th>Sex</th>\n",
       "      <th>Sides</th>\n",
       "    </tr>\n",
       "  </thead>\n",
       "  <tbody>\n",
       "    <tr>\n",
       "      <th>count</th>\n",
       "      <td>362803</td>\n",
       "      <td>362800</td>\n",
       "      <td>362800</td>\n",
       "      <td>362800</td>\n",
       "      <td>362803</td>\n",
       "      <td>362800</td>\n",
       "      <td>362800</td>\n",
       "      <td>362803</td>\n",
       "    </tr>\n",
       "    <tr>\n",
       "      <th>unique</th>\n",
       "      <td>180963</td>\n",
       "      <td>10</td>\n",
       "      <td>4</td>\n",
       "      <td>15</td>\n",
       "      <td>4524</td>\n",
       "      <td>28</td>\n",
       "      <td>2</td>\n",
       "      <td>5</td>\n",
       "    </tr>\n",
       "    <tr>\n",
       "      <th>top</th>\n",
       "      <td>Michael Smith</td>\n",
       "      <td>71-80</td>\n",
       "      <td>White</td>\n",
       "      <td>Pain</td>\n",
       "      <td>10/29/2007</td>\n",
       "      <td>lexapro</td>\n",
       "      <td>female</td>\n",
       "      <td>no side effects</td>\n",
       "    </tr>\n",
       "    <tr>\n",
       "      <th>freq</th>\n",
       "      <td>189</td>\n",
       "      <td>69187</td>\n",
       "      <td>115600</td>\n",
       "      <td>39771</td>\n",
       "      <td>404</td>\n",
       "      <td>29166</td>\n",
       "      <td>254006</td>\n",
       "      <td>111550</td>\n",
       "    </tr>\n",
       "  </tbody>\n",
       "</table>\n",
       "</div>"
      ],
      "text/plain": [
       "                 Name     Age    Race Condition        Date     Drug     Sex  \\\n",
       "count          362803  362800  362800    362800      362803   362800  362800   \n",
       "unique         180963      10       4        15        4524       28       2   \n",
       "top     Michael Smith   71-80   White      Pain  10/29/2007  lexapro  female   \n",
       "freq              189   69187  115600     39771         404    29166  254006   \n",
       "\n",
       "                  Sides  \n",
       "count            362803  \n",
       "unique                5  \n",
       "top     no side effects  \n",
       "freq             111550  "
      ]
     },
     "execution_count": 8,
     "metadata": {},
     "output_type": "execute_result"
    }
   ],
   "source": [
    "data.describe(include='object')"
   ]
  },
  {
   "cell_type": "code",
   "execution_count": 9,
   "metadata": {},
   "outputs": [
    {
     "data": {
      "text/plain": [
       "Name             0\n",
       "Age              3\n",
       "Race             3\n",
       "Condition        3\n",
       "Date             0\n",
       "Drug             3\n",
       "EaseofUse        0\n",
       "Effectiveness    0\n",
       "Sex              3\n",
       "Sides            0\n",
       "dtype: int64"
      ]
     },
     "execution_count": 9,
     "metadata": {},
     "output_type": "execute_result"
    }
   ],
   "source": [
    "#checking for missing values\n",
    "data.isnull().sum()"
   ]
  },
  {
   "cell_type": "code",
   "execution_count": 10,
   "metadata": {},
   "outputs": [
    {
     "data": {
      "image/png": "[encoded data removed]",
      "text/plain": [
       "<Figure size 1080x720 with 2 Axes>"
      ]
     },
     "metadata": {
      "needs_background": "light"
     },
     "output_type": "display_data"
    }
   ],
   "source": [
    "# plotting boxplot to check the outliers \n",
    "df_numerical = data.select_dtypes(exclude='object')\n",
    "x=1\n",
    "plt.figure(figsize = (15, 10))\n",
    "for col in df_numerical.columns:\n",
    "    plt.subplot(6,4,x)\n",
    "    sns.boxplot(data[col])\n",
    "    x+=1\n",
    "plt.tight_layout()"
   ]
  },
  {
   "cell_type": "code",
   "execution_count": 11,
   "metadata": {},
   "outputs": [
    {
     "data": {
      "text/plain": [
       "<matplotlib.axes._subplots.AxesSubplot at 0x19a37c8f8c8>"
      ]
     },
     "execution_count": 11,
     "metadata": {},
     "output_type": "execute_result"
    },
    {
     "data": {
      "image/png": "[encoded data removed]",
      "text/plain": [
       "<Figure size 720x432 with 2 Axes>"
      ]
     },
     "metadata": {
      "needs_background": "light"
     },
     "output_type": "display_data"
    }
   ],
   "source": [
    "# Correlation heatmap\n",
    "plt.figure(figsize=(10,6))\n",
    "sns.heatmap(data.corr(),annot=True,cmap='RdYlGn')"
   ]
  },
  {
   "cell_type": "code",
   "execution_count": 12,
   "metadata": {},
   "outputs": [
    {
     "data": {
      "text/plain": [
       "female    254006\n",
       "male      108794\n",
       "Name: Sex, dtype: int64"
      ]
     },
     "execution_count": 12,
     "metadata": {},
     "output_type": "execute_result"
    }
   ],
   "source": [
    "data['Sex'].value_counts()"
   ]
  },
  {
   "cell_type": "code",
   "execution_count": 13,
   "metadata": {},
   "outputs": [
    {
     "data": {
      "text/plain": [
       "White       115600\n",
       "Hispanic    101684\n",
       "Black        80174\n",
       "Asian        65342\n",
       "Name: Race, dtype: int64"
      ]
     },
     "execution_count": 13,
     "metadata": {},
     "output_type": "execute_result"
    }
   ],
   "source": [
    "data['Race'].value_counts()"
   ]
  },
  {
   "cell_type": "code",
   "execution_count": 14,
   "metadata": {},
   "outputs": [
    {
     "data": {
      "text/plain": [
       "lexapro                                      29166\n",
       "celexa                                       25460\n",
       "warfarin (bulk) 100 % powder                 18322\n",
       "lotrel                                       18140\n",
       "cholestyramine light 4 gram oral powde       16300\n",
       "contrave                                     14677\n",
       "levothyroxine 500 mcg intravenous powder     14546\n",
       "canagliflozin tablet                         14503\n",
       "lortab                                       14458\n",
       "choline mag trisalicylate                    14415\n",
       "chateal                                      14394\n",
       "lyza                                         12557\n",
       "liraglutide pen injector                     11049\n",
       "corgard                                      10953\n",
       "cambia 50 mg oral powder packet              10898\n",
       "nodolor                                      10887\n",
       "lovastatin tablet, extended release 24 hr    10835\n",
       "cafergot                                     10831\n",
       "euthyrox                                     10822\n",
       "naratriptan hcl                              10820\n",
       "chlorothiazide                               10813\n",
       "chantix                                      10804\n",
       "calan sr                                     10692\n",
       "lisinopril solution                           7357\n",
       "lodine                                        7353\n",
       "lyrica                                        7330\n",
       "orlistat capsule                              7249\n",
       "lorazepam concentrate                         7169\n",
       "Name: Drug, dtype: int64"
      ]
     },
     "execution_count": 14,
     "metadata": {},
     "output_type": "execute_result"
    }
   ],
   "source": [
    "data['Drug'].value_counts() "
   ]
  },
  {
   "cell_type": "code",
   "execution_count": 15,
   "metadata": {},
   "outputs": [
    {
     "data": {
      "text/plain": [
       "no side effects                111550\n",
       "extreme severe side effects    100901\n",
       "mild side effects               63158\n",
       "moderate side effects           51852\n",
       "severe side effects             35342\n",
       "Name: Sides, dtype: int64"
      ]
     },
     "execution_count": 15,
     "metadata": {},
     "output_type": "execute_result"
    }
   ],
   "source": [
    "data['Sides'].value_counts() "
   ]
  },
  {
   "cell_type": "code",
   "execution_count": 16,
   "metadata": {},
   "outputs": [
    {
     "data": {
      "text/plain": [
       "array(['no side effects', 'moderate side effects',\n",
       "       'extreme severe side effects', 'mild side effects',\n",
       "       'severe side effects'], dtype=object)"
      ]
     },
     "execution_count": 16,
     "metadata": {},
     "output_type": "execute_result"
    }
   ],
   "source": [
    "data['Sides'].unique()"
   ]
  },
  {
   "cell_type": "code",
   "execution_count": 17,
   "metadata": {},
   "outputs": [
    {
     "data": {
      "text/plain": [
       "5    192650\n",
       "4     74732\n",
       "3     41303\n",
       "1     35927\n",
       "2     18191\n",
       "Name: EaseofUse, dtype: int64"
      ]
     },
     "execution_count": 17,
     "metadata": {},
     "output_type": "execute_result"
    }
   ],
   "source": [
    "data['EaseofUse'].value_counts() "
   ]
  },
  {
   "cell_type": "code",
   "execution_count": 18,
   "metadata": {},
   "outputs": [
    {
     "data": {
      "text/plain": [
       "<bound method Series.unique of 0         5\n",
       "1         5\n",
       "2         2\n",
       "3         2\n",
       "4         1\n",
       "         ..\n",
       "362798    5\n",
       "362799    2\n",
       "362800    2\n",
       "362801    5\n",
       "362802    4\n",
       "Name: EaseofUse, Length: 362803, dtype: int64>"
      ]
     },
     "execution_count": 18,
     "metadata": {},
     "output_type": "execute_result"
    }
   ],
   "source": [
    "data['EaseofUse'].unique"
   ]
  },
  {
   "cell_type": "code",
   "execution_count": 19,
   "metadata": {},
   "outputs": [
    {
     "data": {
      "text/plain": [
       "Pain                                                         39771\n",
       "Migraine Headache                                            32538\n",
       "Other                                                        29126\n",
       "Major Depressive Disorder                                    29124\n",
       "Migraine Prevention                                          29002\n",
       "High Blood Pressure                                          28953\n",
       "High Cholesterol                                             27135\n",
       "Birth Control                                                26951\n",
       "Type 2 Diabetes Mellitus                                     25552\n",
       "Depression                                                   25502\n",
       "Underactive Thyroid                                          25368\n",
       "Overweight                                                   21926\n",
       "Rheumatoid Arthritis                                          7353\n",
       "Disorder characterized by Stiff, Tender & Painful Muscles     7330\n",
       "Chronic Trouble Sleeping                                      7169\n",
       "Name: Condition, dtype: int64"
      ]
     },
     "execution_count": 19,
     "metadata": {},
     "output_type": "execute_result"
    }
   ],
   "source": [
    "data['Condition'].value_counts() "
   ]
  },
  {
   "cell_type": "markdown",
   "metadata": {},
   "source": [
    "# Data preprocessing"
   ]
  },
  {
   "cell_type": "code",
   "execution_count": 20,
   "metadata": {},
   "outputs": [
    {
     "data": {
      "text/plain": [
       "Name             0\n",
       "Age              3\n",
       "Race             3\n",
       "Condition        3\n",
       "Date             0\n",
       "Drug             3\n",
       "EaseofUse        0\n",
       "Effectiveness    0\n",
       "Sex              3\n",
       "Sides            0\n",
       "dtype: int64"
      ]
     },
     "execution_count": 20,
     "metadata": {},
     "output_type": "execute_result"
    }
   ],
   "source": [
    "#checking the null values\n",
    "data.isnull().sum()"
   ]
  },
  {
   "cell_type": "code",
   "execution_count": 21,
   "metadata": {},
   "outputs": [],
   "source": [
    "data['Age'] = data['Age'].fillna(data['Age'].mode()[0])"
   ]
  },
  {
   "cell_type": "code",
   "execution_count": 22,
   "metadata": {},
   "outputs": [],
   "source": [
    "data['Race'] = data['Race'].fillna(data['Race'].mode()[0])"
   ]
  },
  {
   "cell_type": "code",
   "execution_count": 23,
   "metadata": {},
   "outputs": [],
   "source": [
    "data['Condition'] = data['Condition'].fillna(data['Condition'].mode()[0])"
   ]
  },
  {
   "cell_type": "code",
   "execution_count": 24,
   "metadata": {},
   "outputs": [],
   "source": [
    "data['Drug'] = data['Drug'].fillna(data['Drug'].mode()[0])"
   ]
  },
  {
   "cell_type": "code",
   "execution_count": 25,
   "metadata": {},
   "outputs": [],
   "source": [
    "data['Sex'] = data['Sex'].fillna(data['Sex'].mode()[0])"
   ]
  },
  {
   "cell_type": "code",
   "execution_count": 26,
   "metadata": {},
   "outputs": [
    {
     "data": {
      "text/plain": [
       "Name             0\n",
       "Age              0\n",
       "Race             0\n",
       "Condition        0\n",
       "Date             0\n",
       "Drug             0\n",
       "EaseofUse        0\n",
       "Effectiveness    0\n",
       "Sex              0\n",
       "Sides            0\n",
       "dtype: int64"
      ]
     },
     "execution_count": 26,
     "metadata": {},
     "output_type": "execute_result"
    }
   ],
   "source": [
    "data.isnull().sum()"
   ]
  },
  {
   "cell_type": "code",
   "execution_count": 27,
   "metadata": {},
   "outputs": [],
   "source": [
    "# All the missing values are filled"
   ]
  },
  {
   "cell_type": "markdown",
   "metadata": {},
   "source": [
    "# EDA"
   ]
  },
  {
   "cell_type": "code",
   "execution_count": 28,
   "metadata": {},
   "outputs": [
    {
     "data": {
      "image/png": "[encoded data removed]",
      "text/plain": [
       "<Figure size 360x288 with 1 Axes>"
      ]
     },
     "metadata": {
      "needs_background": "light"
     },
     "output_type": "display_data"
    }
   ],
   "source": [
    "plt.figure(figsize=(5,4))\n",
    "sns.countplot(data=data, x = 'Sex')\n",
    "plt.xticks(rotation=45,fontsize=10)\n",
    "plt.title(\"Sex\",size=21)\n",
    "plt.show()"
   ]
  },
  {
   "cell_type": "markdown",
   "metadata": {},
   "source": [
    "1. Female is more in number compared to men."
   ]
  },
  {
   "cell_type": "code",
   "execution_count": 29,
   "metadata": {},
   "outputs": [
    {
     "data": {
      "image/png": "[encoded data removed]",
      "text/plain": [
       "<Figure size 864x432 with 1 Axes>"
      ]
     },
     "metadata": {
      "needs_background": "light"
     },
     "output_type": "display_data"
    }
   ],
   "source": [
    "plt.figure(figsize=(12, 6))\n",
    "\n",
    "sns.countplot(x='Sex',hue=\"Sides\", data=data,palette='husl')\n",
    "plt.title(\"Side effects on gender\",size=21)\n",
    "plt.show()"
   ]
  },
  {
   "cell_type": "markdown",
   "metadata": {},
   "source": [
    "From this graph female has more extreme severe side effects compared to men.\n",
    "Since female is more in number than men."
   ]
  },
  {
   "cell_type": "code",
   "execution_count": 30,
   "metadata": {},
   "outputs": [
    {
     "data": {
      "image/png": "[encoded data removed]",
      "text/plain": [
       "<Figure size 1296x432 with 1 Axes>"
      ]
     },
     "metadata": {
      "needs_background": "light"
     },
     "output_type": "display_data"
    }
   ],
   "source": [
    "plt.figure(figsize=(18,6))\n",
    "sns.countplot(x='Race', data= data)\n",
    "plt.title('Race',size=21)\n",
    "plt.show()"
   ]
  },
  {
   "cell_type": "markdown",
   "metadata": {},
   "source": [
    "white peoples count is more than other race( Hispanic, Asian and Black)."
   ]
  },
  {
   "cell_type": "code",
   "execution_count": 31,
   "metadata": {},
   "outputs": [
    {
     "data": {
      "image/png": "[encoded data removed]",
      "text/plain": [
       "<Figure size 1296x432 with 1 Axes>"
      ]
     },
     "metadata": {
      "needs_background": "light"
     },
     "output_type": "display_data"
    }
   ],
   "source": [
    "plt.figure(figsize=(18,6))\n",
    "sns.countplot(x='Sides', data= data)\n",
    "plt.title('Side effects')\n",
    "plt.show()"
   ]
  },
  {
   "cell_type": "markdown",
   "metadata": {},
   "source": [
    "The count of no side effects is more than other side effects.\n",
    "So we can assume that after the use of drug people has no side effects is more in number."
   ]
  },
  {
   "cell_type": "code",
   "execution_count": 32,
   "metadata": {},
   "outputs": [
    {
     "data": {
      "text/plain": [
       "<matplotlib.axes._subplots.AxesSubplot at 0x19a38b0b548>"
      ]
     },
     "execution_count": 32,
     "metadata": {},
     "output_type": "execute_result"
    },
    {
     "data": {
      "image/png": "[encoded data removed]",
      "text/plain": [
       "<Figure size 1080x504 with 1 Axes>"
      ]
     },
     "metadata": {
      "needs_background": "light"
     },
     "output_type": "display_data"
    }
   ],
   "source": [
    "val=data['Condition'].value_counts().head(7)\n",
    "# sizes=value[:10]\n",
    "series=pd.DataFrame(val)\n",
    "#series['sideEffects']=series.index\n",
    "series.rename(columns={'Condition': 'Frequency'},inplace=True)\n",
    "fig, ax = plt.subplots(figsize=(15,7))\n",
    "# Set label for x-axis \n",
    "ax.set_xlabel( \"Condition\" , size = 12 ) \n",
    "  \n",
    "# Set label for y-axis \n",
    "ax.set_ylabel( \"Frequency\" , size = 12 ) \n",
    "  \n",
    "# Set title for plot \n",
    "ax.set_title( \"Major Health Conditions for Drug Use\" , size = 24 ) \n",
    "sns.barplot(x=series.index,y=series['Frequency'],data=series)"
   ]
  },
  {
   "cell_type": "markdown",
   "metadata": {},
   "source": [
    "Pain is the major health conditions for drug use following conditions is migraine headache , major depressive disorder condition, migraine prevention, high blood pressure and  high cholesterol. "
   ]
  },
  {
   "cell_type": "code",
   "execution_count": 33,
   "metadata": {},
   "outputs": [
    {
     "data": {
      "image/png": "[encoded data removed]",
      "text/plain": [
       "<Figure size 1080x648 with 1 Axes>"
      ]
     },
     "metadata": {},
     "output_type": "display_data"
    }
   ],
   "source": [
    "plt.figure(figsize=(15,9))\n",
    "plt.title('% of different Conditions of People')\n",
    "tr = pd.DataFrame(data['Condition'].value_counts())\n",
    "tr_names = tr.index\n",
    "count = tr['Condition']\n",
    "plt.style.use('ggplot')\n",
    "plt.rc('font', size=12)\n",
    "plt.pie(count, autopct='%1.1f%%', labels = tr_names, pctdistance=0.9, labeldistance=1.1)\n",
    "\n",
    "plt.show()"
   ]
  },
  {
   "cell_type": "markdown",
   "metadata": {},
   "source": [
    "This pie chart includes all conditions in percentage value. Drug used for chronic trouble sleeping, Disorder characterized by stiff, tender and painful muscles and rheumatoid arthritis has only 2 % which is less than other health condition."
   ]
  },
  {
   "cell_type": "code",
   "execution_count": 34,
   "metadata": {},
   "outputs": [
    {
     "data": {
      "image/png": "[encoded data removed]",
      "text/plain": [
       "<Figure size 1152x432 with 1 Axes>"
      ]
     },
     "metadata": {},
     "output_type": "display_data"
    }
   ],
   "source": [
    "plt.figure(figsize=(16, 6))\n",
    "ax = sns.countplot(x=\"Age\",hue = \"Sex\",data=data,\n",
    "                   linewidth=5,)\n",
    "plt.show()"
   ]
  },
  {
   "cell_type": "markdown",
   "metadata": {},
   "source": [
    "Count of male and female in age group of 71- 80 has high in count. Drugs used for age group of 11-20  and 41-50 has less in count."
   ]
  },
  {
   "cell_type": "code",
   "execution_count": 35,
   "metadata": {},
   "outputs": [
    {
     "data": {
      "image/png": "[encoded data removed]",
      "text/plain": [
       "<Figure size 864x432 with 1 Axes>"
      ]
     },
     "metadata": {},
     "output_type": "display_data"
    }
   ],
   "source": [
    "plt.figure(figsize=(12, 6))\n",
    "\n",
    "sns.countplot(x='Race',hue=\"Sides\", data=data,palette='husl')\n",
    "plt.title(\"Side effects on race\",size=21)\n",
    "plt.show()"
   ]
  },
  {
   "cell_type": "markdown",
   "metadata": {},
   "source": [
    "White people has no side effects after the drug use. So we can assume that white people has more immunity and healthy compared to other race . i.e, they care the heath more than other race."
   ]
  },
  {
   "cell_type": "code",
   "execution_count": 36,
   "metadata": {},
   "outputs": [
    {
     "data": {
      "image/png": "[encoded data removed]",
      "text/plain": [
       "<Figure size 864x432 with 1 Axes>"
      ]
     },
     "metadata": {},
     "output_type": "display_data"
    }
   ],
   "source": [
    "plt.figure(figsize=(12, 6))\n",
    "\n",
    "sns.countplot(x='Sex',hue=\"Effectiveness\", data=data,palette='husl')\n",
    "plt.title(\"Effectiveness on gender\",size=21)\n",
    "plt.show()"
   ]
  },
  {
   "cell_type": "markdown",
   "metadata": {},
   "source": [
    "The drug is more effective in female since female count is more."
   ]
  },
  {
   "cell_type": "code",
   "execution_count": 37,
   "metadata": {},
   "outputs": [
    {
     "data": {
      "image/png": "[encoded data removed]",
      "text/plain": [
       "<Figure size 864x432 with 1 Axes>"
      ]
     },
     "metadata": {},
     "output_type": "display_data"
    }
   ],
   "source": [
    "plt.figure(figsize=(12, 6))\n",
    "\n",
    "sns.countplot(x='Age',hue=\"Sides\", data=data)\n",
    "plt.title(\"Side effects on different age group\",size=21)\n",
    "plt.show()"
   ]
  },
  {
   "cell_type": "markdown",
   "metadata": {},
   "source": [
    "Side effects is more on adults above 70 and babies and children. The immunity is weak for them so drugs can cause more side effects. Age group 41-50 is healthier compared to other age group."
   ]
  },
  {
   "cell_type": "code",
   "execution_count": 38,
   "metadata": {},
   "outputs": [
    {
     "data": {
      "image/png": "[encoded data removed]",
      "text/plain": [
       "<Figure size 864x432 with 1 Axes>"
      ]
     },
     "metadata": {},
     "output_type": "display_data"
    }
   ],
   "source": [
    "plt.figure(figsize=(12, 6))\n",
    "\n",
    "sns.countplot(x='Age',hue=\"Effectiveness\", data=data)\n",
    "plt.title(\"effectiveness on age\",size=21)\n",
    "plt.show()"
   ]
  },
  {
   "cell_type": "markdown",
   "metadata": {},
   "source": [
    "From the above graph the drug is more effective on age group of 71-80, 91-100  because as age increases health condition increases so these age group of people take more drugs so effectiveness is also shown more in them. "
   ]
  },
  {
   "cell_type": "markdown",
   "metadata": {},
   "source": [
    "# Encoding"
   ]
  },
  {
   "cell_type": "code",
   "execution_count": 39,
   "metadata": {},
   "outputs": [
    {
     "name": "stdout",
     "output_type": "stream",
     "text": [
      "<class 'pandas.core.frame.DataFrame'>\n",
      "RangeIndex: 362803 entries, 0 to 362802\n",
      "Data columns (total 10 columns):\n",
      " #   Column         Non-Null Count   Dtype   \n",
      "---  ------         --------------   -----   \n",
      " 0   Name           362803 non-null  category\n",
      " 1   Age            362803 non-null  category\n",
      " 2   Race           362803 non-null  category\n",
      " 3   Condition      362803 non-null  category\n",
      " 4   Date           362803 non-null  category\n",
      " 5   Drug           362803 non-null  category\n",
      " 6   EaseofUse      362803 non-null  int64   \n",
      " 7   Effectiveness  362803 non-null  int64   \n",
      " 8   Sex            362803 non-null  category\n",
      " 9   Sides          362803 non-null  category\n",
      "dtypes: category(8), int64(2)\n",
      "memory usage: 16.3 MB\n"
     ]
    }
   ],
   "source": [
    "# Changing object to category datatype for encoding\n",
    "for cl in data.select_dtypes(include = ['object']):\n",
    "    data[cl]=data[cl].astype('category')\n",
    "data.info()"
   ]
  },
  {
   "cell_type": "code",
   "execution_count": 40,
   "metadata": {},
   "outputs": [],
   "source": [
    "#Label encoding"
   ]
  },
  {
   "cell_type": "code",
   "execution_count": 41,
   "metadata": {},
   "outputs": [],
   "source": [
    "from sklearn import preprocessing\n",
    "le = preprocessing.LabelEncoder()"
   ]
  },
  {
   "cell_type": "code",
   "execution_count": 42,
   "metadata": {},
   "outputs": [],
   "source": [
    "categ = ['Name','Age','Race','Condition','Date','Drug','Sex','Sides']\n",
    "\n",
    "# Encode Categorical Columns\n",
    "\n",
    "data[categ] = data[categ].apply(le.fit_transform)"
   ]
  },
  {
   "cell_type": "code",
   "execution_count": 43,
   "metadata": {},
   "outputs": [
    {
     "data": {
      "text/html": [
       "<div>\n",
       "<style scoped>\n",
       "    .dataframe tbody tr th:only-of-type {\n",
       "        vertical-align: middle;\n",
       "    }\n",
       "\n",
       "    .dataframe tbody tr th {\n",
       "        vertical-align: top;\n",
       "    }\n",
       "\n",
       "    .dataframe thead th {\n",
       "        text-align: right;\n",
       "    }\n",
       "</style>\n",
       "<table border=\"1\" class=\"dataframe\">\n",
       "  <thead>\n",
       "    <tr style=\"text-align: right;\">\n",
       "      <th></th>\n",
       "      <th>Name</th>\n",
       "      <th>Age</th>\n",
       "      <th>Race</th>\n",
       "      <th>Condition</th>\n",
       "      <th>Date</th>\n",
       "      <th>Drug</th>\n",
       "      <th>EaseofUse</th>\n",
       "      <th>Effectiveness</th>\n",
       "      <th>Sex</th>\n",
       "      <th>Sides</th>\n",
       "    </tr>\n",
       "  </thead>\n",
       "  <tbody>\n",
       "    <tr>\n",
       "      <th>0</th>\n",
       "      <td>20538</td>\n",
       "      <td>5</td>\n",
       "      <td>0</td>\n",
       "      <td>11</td>\n",
       "      <td>4317</td>\n",
       "      <td>9</td>\n",
       "      <td>5</td>\n",
       "      <td>5</td>\n",
       "      <td>0</td>\n",
       "      <td>3</td>\n",
       "    </tr>\n",
       "    <tr>\n",
       "      <th>1</th>\n",
       "      <td>170688</td>\n",
       "      <td>3</td>\n",
       "      <td>3</td>\n",
       "      <td>11</td>\n",
       "      <td>55</td>\n",
       "      <td>19</td>\n",
       "      <td>5</td>\n",
       "      <td>5</td>\n",
       "      <td>0</td>\n",
       "      <td>3</td>\n",
       "    </tr>\n",
       "    <tr>\n",
       "      <th>2</th>\n",
       "      <td>139892</td>\n",
       "      <td>3</td>\n",
       "      <td>3</td>\n",
       "      <td>5</td>\n",
       "      <td>3502</td>\n",
       "      <td>8</td>\n",
       "      <td>2</td>\n",
       "      <td>3</td>\n",
       "      <td>0</td>\n",
       "      <td>2</td>\n",
       "    </tr>\n",
       "    <tr>\n",
       "      <th>3</th>\n",
       "      <td>109772</td>\n",
       "      <td>7</td>\n",
       "      <td>3</td>\n",
       "      <td>11</td>\n",
       "      <td>4339</td>\n",
       "      <td>19</td>\n",
       "      <td>2</td>\n",
       "      <td>2</td>\n",
       "      <td>0</td>\n",
       "      <td>0</td>\n",
       "    </tr>\n",
       "    <tr>\n",
       "      <th>4</th>\n",
       "      <td>12773</td>\n",
       "      <td>7</td>\n",
       "      <td>2</td>\n",
       "      <td>0</td>\n",
       "      <td>352</td>\n",
       "      <td>6</td>\n",
       "      <td>1</td>\n",
       "      <td>1</td>\n",
       "      <td>0</td>\n",
       "      <td>0</td>\n",
       "    </tr>\n",
       "    <tr>\n",
       "      <th>...</th>\n",
       "      <td>...</td>\n",
       "      <td>...</td>\n",
       "      <td>...</td>\n",
       "      <td>...</td>\n",
       "      <td>...</td>\n",
       "      <td>...</td>\n",
       "      <td>...</td>\n",
       "      <td>...</td>\n",
       "      <td>...</td>\n",
       "      <td>...</td>\n",
       "    </tr>\n",
       "    <tr>\n",
       "      <th>362798</th>\n",
       "      <td>120212</td>\n",
       "      <td>6</td>\n",
       "      <td>3</td>\n",
       "      <td>4</td>\n",
       "      <td>869</td>\n",
       "      <td>7</td>\n",
       "      <td>5</td>\n",
       "      <td>5</td>\n",
       "      <td>0</td>\n",
       "      <td>3</td>\n",
       "    </tr>\n",
       "    <tr>\n",
       "      <th>362799</th>\n",
       "      <td>146444</td>\n",
       "      <td>3</td>\n",
       "      <td>3</td>\n",
       "      <td>4</td>\n",
       "      <td>869</td>\n",
       "      <td>20</td>\n",
       "      <td>2</td>\n",
       "      <td>3</td>\n",
       "      <td>1</td>\n",
       "      <td>0</td>\n",
       "    </tr>\n",
       "    <tr>\n",
       "      <th>362800</th>\n",
       "      <td>151476</td>\n",
       "      <td>7</td>\n",
       "      <td>3</td>\n",
       "      <td>11</td>\n",
       "      <td>856</td>\n",
       "      <td>14</td>\n",
       "      <td>2</td>\n",
       "      <td>4</td>\n",
       "      <td>0</td>\n",
       "      <td>4</td>\n",
       "    </tr>\n",
       "    <tr>\n",
       "      <th>362801</th>\n",
       "      <td>86656</td>\n",
       "      <td>7</td>\n",
       "      <td>3</td>\n",
       "      <td>11</td>\n",
       "      <td>856</td>\n",
       "      <td>14</td>\n",
       "      <td>5</td>\n",
       "      <td>5</td>\n",
       "      <td>0</td>\n",
       "      <td>3</td>\n",
       "    </tr>\n",
       "    <tr>\n",
       "      <th>362802</th>\n",
       "      <td>147998</td>\n",
       "      <td>7</td>\n",
       "      <td>3</td>\n",
       "      <td>11</td>\n",
       "      <td>843</td>\n",
       "      <td>14</td>\n",
       "      <td>4</td>\n",
       "      <td>5</td>\n",
       "      <td>0</td>\n",
       "      <td>3</td>\n",
       "    </tr>\n",
       "  </tbody>\n",
       "</table>\n",
       "<p>362803 rows × 10 columns</p>\n",
       "</div>"
      ],
      "text/plain": [
       "          Name  Age  Race  Condition  Date  Drug  EaseofUse  Effectiveness  \\\n",
       "0        20538    5     0         11  4317     9          5              5   \n",
       "1       170688    3     3         11    55    19          5              5   \n",
       "2       139892    3     3          5  3502     8          2              3   \n",
       "3       109772    7     3         11  4339    19          2              2   \n",
       "4        12773    7     2          0   352     6          1              1   \n",
       "...        ...  ...   ...        ...   ...   ...        ...            ...   \n",
       "362798  120212    6     3          4   869     7          5              5   \n",
       "362799  146444    3     3          4   869    20          2              3   \n",
       "362800  151476    7     3         11   856    14          2              4   \n",
       "362801   86656    7     3         11   856    14          5              5   \n",
       "362802  147998    7     3         11   843    14          4              5   \n",
       "\n",
       "        Sex  Sides  \n",
       "0         0      3  \n",
       "1         0      3  \n",
       "2         0      2  \n",
       "3         0      0  \n",
       "4         0      0  \n",
       "...     ...    ...  \n",
       "362798    0      3  \n",
       "362799    1      0  \n",
       "362800    0      4  \n",
       "362801    0      3  \n",
       "362802    0      3  \n",
       "\n",
       "[362803 rows x 10 columns]"
      ]
     },
     "execution_count": 43,
     "metadata": {},
     "output_type": "execute_result"
    }
   ],
   "source": [
    "data"
   ]
  },
  {
   "cell_type": "code",
   "execution_count": 44,
   "metadata": {},
   "outputs": [
    {
     "data": {
      "text/plain": [
       "<matplotlib.axes._subplots.AxesSubplot at 0x19a368ee9c8>"
      ]
     },
     "execution_count": 44,
     "metadata": {},
     "output_type": "execute_result"
    },
    {
     "data": {
      "image/png": "[encoded data removed]",
      "text/plain": [
       "<Figure size 720x432 with 2 Axes>"
      ]
     },
     "metadata": {},
     "output_type": "display_data"
    }
   ],
   "source": [
    "plt.figure(figsize=(10,6))\n",
    "sns.heatmap(data.corr(),annot=True,cmap='RdYlGn') # correlation heatmap"
   ]
  },
  {
   "cell_type": "code",
   "execution_count": 45,
   "metadata": {},
   "outputs": [],
   "source": [
    "new_data=data.drop(['Date','Name'],axis=1) # dropping these two columns "
   ]
  },
  {
   "cell_type": "code",
   "execution_count": 46,
   "metadata": {},
   "outputs": [
    {
     "data": {
      "text/html": [
       "<div>\n",
       "<style scoped>\n",
       "    .dataframe tbody tr th:only-of-type {\n",
       "        vertical-align: middle;\n",
       "    }\n",
       "\n",
       "    .dataframe tbody tr th {\n",
       "        vertical-align: top;\n",
       "    }\n",
       "\n",
       "    .dataframe thead th {\n",
       "        text-align: right;\n",
       "    }\n",
       "</style>\n",
       "<table border=\"1\" class=\"dataframe\">\n",
       "  <thead>\n",
       "    <tr style=\"text-align: right;\">\n",
       "      <th></th>\n",
       "      <th>Age</th>\n",
       "      <th>Race</th>\n",
       "      <th>Condition</th>\n",
       "      <th>Drug</th>\n",
       "      <th>EaseofUse</th>\n",
       "      <th>Effectiveness</th>\n",
       "      <th>Sex</th>\n",
       "      <th>Sides</th>\n",
       "    </tr>\n",
       "  </thead>\n",
       "  <tbody>\n",
       "    <tr>\n",
       "      <th>0</th>\n",
       "      <td>5</td>\n",
       "      <td>0</td>\n",
       "      <td>11</td>\n",
       "      <td>9</td>\n",
       "      <td>5</td>\n",
       "      <td>5</td>\n",
       "      <td>0</td>\n",
       "      <td>3</td>\n",
       "    </tr>\n",
       "    <tr>\n",
       "      <th>1</th>\n",
       "      <td>3</td>\n",
       "      <td>3</td>\n",
       "      <td>11</td>\n",
       "      <td>19</td>\n",
       "      <td>5</td>\n",
       "      <td>5</td>\n",
       "      <td>0</td>\n",
       "      <td>3</td>\n",
       "    </tr>\n",
       "    <tr>\n",
       "      <th>2</th>\n",
       "      <td>3</td>\n",
       "      <td>3</td>\n",
       "      <td>5</td>\n",
       "      <td>8</td>\n",
       "      <td>2</td>\n",
       "      <td>3</td>\n",
       "      <td>0</td>\n",
       "      <td>2</td>\n",
       "    </tr>\n",
       "    <tr>\n",
       "      <th>3</th>\n",
       "      <td>7</td>\n",
       "      <td>3</td>\n",
       "      <td>11</td>\n",
       "      <td>19</td>\n",
       "      <td>2</td>\n",
       "      <td>2</td>\n",
       "      <td>0</td>\n",
       "      <td>0</td>\n",
       "    </tr>\n",
       "    <tr>\n",
       "      <th>4</th>\n",
       "      <td>7</td>\n",
       "      <td>2</td>\n",
       "      <td>0</td>\n",
       "      <td>6</td>\n",
       "      <td>1</td>\n",
       "      <td>1</td>\n",
       "      <td>0</td>\n",
       "      <td>0</td>\n",
       "    </tr>\n",
       "    <tr>\n",
       "      <th>...</th>\n",
       "      <td>...</td>\n",
       "      <td>...</td>\n",
       "      <td>...</td>\n",
       "      <td>...</td>\n",
       "      <td>...</td>\n",
       "      <td>...</td>\n",
       "      <td>...</td>\n",
       "      <td>...</td>\n",
       "    </tr>\n",
       "    <tr>\n",
       "      <th>362798</th>\n",
       "      <td>6</td>\n",
       "      <td>3</td>\n",
       "      <td>4</td>\n",
       "      <td>7</td>\n",
       "      <td>5</td>\n",
       "      <td>5</td>\n",
       "      <td>0</td>\n",
       "      <td>3</td>\n",
       "    </tr>\n",
       "    <tr>\n",
       "      <th>362799</th>\n",
       "      <td>3</td>\n",
       "      <td>3</td>\n",
       "      <td>4</td>\n",
       "      <td>20</td>\n",
       "      <td>2</td>\n",
       "      <td>3</td>\n",
       "      <td>1</td>\n",
       "      <td>0</td>\n",
       "    </tr>\n",
       "    <tr>\n",
       "      <th>362800</th>\n",
       "      <td>7</td>\n",
       "      <td>3</td>\n",
       "      <td>11</td>\n",
       "      <td>14</td>\n",
       "      <td>2</td>\n",
       "      <td>4</td>\n",
       "      <td>0</td>\n",
       "      <td>4</td>\n",
       "    </tr>\n",
       "    <tr>\n",
       "      <th>362801</th>\n",
       "      <td>7</td>\n",
       "      <td>3</td>\n",
       "      <td>11</td>\n",
       "      <td>14</td>\n",
       "      <td>5</td>\n",
       "      <td>5</td>\n",
       "      <td>0</td>\n",
       "      <td>3</td>\n",
       "    </tr>\n",
       "    <tr>\n",
       "      <th>362802</th>\n",
       "      <td>7</td>\n",
       "      <td>3</td>\n",
       "      <td>11</td>\n",
       "      <td>14</td>\n",
       "      <td>4</td>\n",
       "      <td>5</td>\n",
       "      <td>0</td>\n",
       "      <td>3</td>\n",
       "    </tr>\n",
       "  </tbody>\n",
       "</table>\n",
       "<p>362803 rows × 8 columns</p>\n",
       "</div>"
      ],
      "text/plain": [
       "        Age  Race  Condition  Drug  EaseofUse  Effectiveness  Sex  Sides\n",
       "0         5     0         11     9          5              5    0      3\n",
       "1         3     3         11    19          5              5    0      3\n",
       "2         3     3          5     8          2              3    0      2\n",
       "3         7     3         11    19          2              2    0      0\n",
       "4         7     2          0     6          1              1    0      0\n",
       "...     ...   ...        ...   ...        ...            ...  ...    ...\n",
       "362798    6     3          4     7          5              5    0      3\n",
       "362799    3     3          4    20          2              3    1      0\n",
       "362800    7     3         11    14          2              4    0      4\n",
       "362801    7     3         11    14          5              5    0      3\n",
       "362802    7     3         11    14          4              5    0      3\n",
       "\n",
       "[362803 rows x 8 columns]"
      ]
     },
     "execution_count": 46,
     "metadata": {},
     "output_type": "execute_result"
    }
   ],
   "source": [
    "new_data"
   ]
  },
  {
   "cell_type": "markdown",
   "metadata": {},
   "source": [
    "# Splitting the dataset"
   ]
  },
  {
   "cell_type": "code",
   "execution_count": 47,
   "metadata": {},
   "outputs": [],
   "source": [
    "#target\n",
    "y=new_data['Sides']"
   ]
  },
  {
   "cell_type": "code",
   "execution_count": 48,
   "metadata": {},
   "outputs": [],
   "source": [
    "x=new_data.drop(['Sides'],axis=1)"
   ]
  },
  {
   "cell_type": "code",
   "execution_count": 49,
   "metadata": {},
   "outputs": [
    {
     "data": {
      "text/plain": [
       "(362803, 7)"
      ]
     },
     "execution_count": 49,
     "metadata": {},
     "output_type": "execute_result"
    }
   ],
   "source": [
    "x.shape"
   ]
  },
  {
   "cell_type": "code",
   "execution_count": 50,
   "metadata": {},
   "outputs": [
    {
     "data": {
      "text/plain": [
       "(362803,)"
      ]
     },
     "execution_count": 50,
     "metadata": {},
     "output_type": "execute_result"
    }
   ],
   "source": [
    "y.shape"
   ]
  },
  {
   "cell_type": "code",
   "execution_count": 51,
   "metadata": {},
   "outputs": [
    {
     "data": {
      "text/plain": [
       "Index(['Age', 'Race', 'Condition', 'Drug', 'EaseofUse', 'Effectiveness',\n",
       "       'Sex'],\n",
       "      dtype='object')"
      ]
     },
     "execution_count": 51,
     "metadata": {},
     "output_type": "execute_result"
    }
   ],
   "source": [
    "x.columns"
   ]
  },
  {
   "cell_type": "code",
   "execution_count": 52,
   "metadata": {},
   "outputs": [
    {
     "name": "stdout",
     "output_type": "stream",
     "text": [
      "<class 'pandas.core.frame.DataFrame'>\n",
      "RangeIndex: 362803 entries, 0 to 362802\n",
      "Data columns (total 7 columns):\n",
      " #   Column         Non-Null Count   Dtype\n",
      "---  ------         --------------   -----\n",
      " 0   Age            362803 non-null  int32\n",
      " 1   Race           362803 non-null  int32\n",
      " 2   Condition      362803 non-null  int32\n",
      " 3   Drug           362803 non-null  int32\n",
      " 4   EaseofUse      362803 non-null  int64\n",
      " 5   Effectiveness  362803 non-null  int64\n",
      " 6   Sex            362803 non-null  int32\n",
      "dtypes: int32(5), int64(2)\n",
      "memory usage: 12.5 MB\n"
     ]
    }
   ],
   "source": [
    "x.info()"
   ]
  },
  {
   "cell_type": "code",
   "execution_count": 53,
   "metadata": {},
   "outputs": [],
   "source": [
    "from sklearn.model_selection import train_test_split\n",
    "x_train, x_test, y_train, y_test = train_test_split(x, y, test_size = 0.2, random_state = 42)"
   ]
  },
  {
   "cell_type": "markdown",
   "metadata": {},
   "source": [
    "# Modeling"
   ]
  },
  {
   "cell_type": "markdown",
   "metadata": {},
   "source": [
    "# a.Logistic Regression"
   ]
  },
  {
   "cell_type": "code",
   "execution_count": 54,
   "metadata": {},
   "outputs": [],
   "source": [
    "from sklearn.linear_model import LogisticRegression\n",
    "from sklearn.metrics import confusion_matrix,accuracy_score,precision_score,recall_score,f1_score,classification_report\n",
    "lr=LogisticRegression()\n",
    "lr.fit(x_train,y_train)\n",
    "y_pred=lr.predict(x_test)"
   ]
  },
  {
   "cell_type": "code",
   "execution_count": 55,
   "metadata": {},
   "outputs": [
    {
     "name": "stdout",
     "output_type": "stream",
     "text": [
      "accuracy is:  0.6048290403935999\n",
      "precision is :  0.4653497224200705\n",
      "recall is :  0.45738021707230175\n",
      "f1 score is :  0.42549226846217036\n"
     ]
    }
   ],
   "source": [
    "print('accuracy is: ',accuracy_score(y_test,y_pred))\n",
    "print('precision is : ',precision_score(y_test,y_pred,average='macro'))\n",
    "print('recall is : ',recall_score(y_test,y_pred,average='macro'))\n",
    "print('f1 score is : ',f1_score(y_test,y_pred,average='macro'))"
   ]
  },
  {
   "cell_type": "code",
   "execution_count": 56,
   "metadata": {},
   "outputs": [
    {
     "data": {
      "text/plain": [
       "array([[16865,   885,   950,  1462,    12],\n",
       "       [  741,  3317,  1975,  6546,     8],\n",
       "       [ 3976,  1542,  2426,  2406,    25],\n",
       "       [  171,   519,   382, 21268,     0],\n",
       "       [ 4329,   713,  1067,   965,    11]], dtype=int64)"
      ]
     },
     "execution_count": 56,
     "metadata": {},
     "output_type": "execute_result"
    }
   ],
   "source": [
    "confusion_matrix(y_test,y_pred)"
   ]
  },
  {
   "cell_type": "code",
   "execution_count": 57,
   "metadata": {},
   "outputs": [
    {
     "name": "stdout",
     "output_type": "stream",
     "text": [
      "Accuracy 0.6038064787315413\n",
      "F1 score: 0.42586729855122635\n",
      "              precision    recall  f1-score   support\n",
      "\n",
      "           0       0.65      0.83      0.73     80727\n",
      "           1       0.47      0.27      0.34     50571\n",
      "           2       0.35      0.24      0.28     41477\n",
      "           3       0.65      0.95      0.77     89210\n",
      "           4       0.21      0.00      0.00     28257\n",
      "\n",
      "    accuracy                           0.60    290242\n",
      "   macro avg       0.47      0.46      0.43    290242\n",
      "weighted avg       0.53      0.60      0.54    290242\n",
      "\n"
     ]
    }
   ],
   "source": [
    "x_pred=lr.predict(x_train)\n",
    "print(\"Accuracy\",accuracy_score(y_train,x_pred))\n",
    "print(\"F1 score:\",f1_score(y_train,x_pred,average='macro'))\n",
    "print(classification_report(y_train,x_pred))"
   ]
  },
  {
   "cell_type": "markdown",
   "metadata": {},
   "source": [
    "# b.Random Forest "
   ]
  },
  {
   "cell_type": "code",
   "execution_count": 58,
   "metadata": {},
   "outputs": [],
   "source": [
    "from sklearn.ensemble import RandomForestClassifier\n",
    "rf=RandomForestClassifier()\n",
    "rf.fit(x_train,y_train)\n",
    "y_pred=rf.predict(x_test)"
   ]
  },
  {
   "cell_type": "code",
   "execution_count": 59,
   "metadata": {},
   "outputs": [
    {
     "name": "stdout",
     "output_type": "stream",
     "text": [
      "accuracy is:  0.6359752484116812\n",
      "precision is :  0.5491565066851751\n",
      "recall is :  0.5440786636368948\n",
      "f1 score is :  0.5422987094362871\n"
     ]
    }
   ],
   "source": [
    "print('accuracy is: ',accuracy_score(y_test,y_pred))\n",
    "print('precision is : ',precision_score(y_test,y_pred,average='macro'))\n",
    "print('recall is : ',recall_score(y_test,y_pred,average='macro'))\n",
    "print('f1 score is : ',f1_score(y_test,y_pred,average='macro'))"
   ]
  },
  {
   "cell_type": "code",
   "execution_count": 60,
   "metadata": {},
   "outputs": [
    {
     "data": {
      "text/plain": [
       "array([[14463,  1145,  1825,  1170,  1571],\n",
       "       [  387,  7220,  1332,  3325,   323],\n",
       "       [ 1317,  2383,  4105,  1482,  1088],\n",
       "       [  211,  2562,   388, 19084,    95],\n",
       "       [ 2229,  1006,  1911,   664,  1275]], dtype=int64)"
      ]
     },
     "execution_count": 60,
     "metadata": {},
     "output_type": "execute_result"
    }
   ],
   "source": [
    "confusion_matrix(y_test,y_pred)"
   ]
  },
  {
   "cell_type": "code",
   "execution_count": 61,
   "metadata": {},
   "outputs": [
    {
     "name": "stdout",
     "output_type": "stream",
     "text": [
      "Accuracy 0.7160679708656914\n",
      "F1 score: 0.6545263420484139\n",
      "              precision    recall  f1-score   support\n",
      "\n",
      "           0       0.86      0.78      0.82     80727\n",
      "           1       0.57      0.66      0.61     50571\n",
      "           2       0.57      0.53      0.55     41477\n",
      "           3       0.77      0.88      0.82     89210\n",
      "           4       0.61      0.38      0.47     28257\n",
      "\n",
      "    accuracy                           0.72    290242\n",
      "   macro avg       0.68      0.65      0.65    290242\n",
      "weighted avg       0.72      0.72      0.71    290242\n",
      "\n"
     ]
    }
   ],
   "source": [
    "x_pred=rf.predict(x_train)\n",
    "print(\"Accuracy\",accuracy_score(y_train,x_pred))\n",
    "print(\"F1 score:\",f1_score(y_train,x_pred,average='macro'))\n",
    "print(classification_report(y_train,x_pred))"
   ]
  },
  {
   "cell_type": "markdown",
   "metadata": {},
   "source": [
    "# c.Bernoulli Naive Bayes"
   ]
  },
  {
   "cell_type": "code",
   "execution_count": 62,
   "metadata": {},
   "outputs": [],
   "source": [
    "from sklearn.naive_bayes import BernoulliNB\n",
    "BNB=BernoulliNB()\n",
    "BNB.fit(x_train,y_train)\n",
    "y_pred=BNB.predict(x_test)"
   ]
  },
  {
   "cell_type": "code",
   "execution_count": 63,
   "metadata": {},
   "outputs": [
    {
     "name": "stdout",
     "output_type": "stream",
     "text": [
      "accuracy is:  0.3078788881079368\n",
      "precision is :  0.061575777621587356\n",
      "recall is :  0.2\n",
      "f1 score is :  0.09416128386423747\n"
     ]
    }
   ],
   "source": [
    "print('accuracy is: ',accuracy_score(y_test,y_pred))\n",
    "print('precision is : ',precision_score(y_test,y_pred,average='macro'))\n",
    "print('recall is : ',recall_score(y_test,y_pred,average='macro'))\n",
    "print('f1 score is : ',f1_score(y_test,y_pred,average='macro'))"
   ]
  },
  {
   "cell_type": "code",
   "execution_count": 64,
   "metadata": {},
   "outputs": [
    {
     "data": {
      "text/plain": [
       "array([[    0,     0,     0, 20174,     0],\n",
       "       [    0,     0,     0, 12587,     0],\n",
       "       [    0,     0,     0, 10375,     0],\n",
       "       [    0,     0,     0, 22340,     0],\n",
       "       [    0,     0,     0,  7085,     0]], dtype=int64)"
      ]
     },
     "execution_count": 64,
     "metadata": {},
     "output_type": "execute_result"
    }
   ],
   "source": [
    "confusion_matrix(y_test,y_pred)"
   ]
  },
  {
   "cell_type": "code",
   "execution_count": 65,
   "metadata": {},
   "outputs": [
    {
     "name": "stdout",
     "output_type": "stream",
     "text": [
      "Accuracy 0.30736419953004734\n",
      "F1 score: 0.09404088000590324\n",
      "              precision    recall  f1-score   support\n",
      "\n",
      "           0       0.00      0.00      0.00     80727\n",
      "           1       0.00      0.00      0.00     50571\n",
      "           2       0.00      0.00      0.00     41477\n",
      "           3       0.31      1.00      0.47     89210\n",
      "           4       0.00      0.00      0.00     28257\n",
      "\n",
      "    accuracy                           0.31    290242\n",
      "   macro avg       0.06      0.20      0.09    290242\n",
      "weighted avg       0.09      0.31      0.14    290242\n",
      "\n"
     ]
    }
   ],
   "source": [
    "x_pred=BNB.predict(x_train)\n",
    "print(\"Accuracy\",accuracy_score(y_train,x_pred))\n",
    "print(\"F1 score:\",f1_score(y_train,x_pred,average='macro'))\n",
    "print(classification_report(y_train,x_pred))"
   ]
  },
  {
   "cell_type": "markdown",
   "metadata": {},
   "source": [
    "# d. Gradient Boosting"
   ]
  },
  {
   "cell_type": "code",
   "execution_count": 66,
   "metadata": {},
   "outputs": [],
   "source": [
    "from sklearn.ensemble import GradientBoostingClassifier\n",
    "grad=GradientBoostingClassifier()\n",
    "grad.fit(x_train,y_train)\n",
    "y_pred=grad.predict(x_test)"
   ]
  },
  {
   "cell_type": "code",
   "execution_count": 67,
   "metadata": {},
   "outputs": [
    {
     "name": "stdout",
     "output_type": "stream",
     "text": [
      "accuracy is:  0.6677691873044749\n",
      "precision is :  0.573324404397925\n",
      "recall is :  0.5633475732808786\n",
      "f1 score is :  0.5415910488151783\n"
     ]
    }
   ],
   "source": [
    "print('accuracy is: ',accuracy_score(y_test,y_pred))\n",
    "print('precision is : ',precision_score(y_test,y_pred,average='macro'))\n",
    "print('recall is : ',recall_score(y_test,y_pred,average='macro'))\n",
    "print('f1 score is : ',f1_score(y_test,y_pred,average='macro'))"
   ]
  },
  {
   "cell_type": "code",
   "execution_count": 68,
   "metadata": {},
   "outputs": [
    {
     "data": {
      "text/plain": [
       "array([[15566,  1220,  2016,  1124,   248],\n",
       "       [  153,  8148,  1286,  2986,    14],\n",
       "       [  967,  2627,  5220,  1380,   181],\n",
       "       [  130,  2645,   258, 19303,     4],\n",
       "       [ 2901,  1047,  2281,   639,   217]], dtype=int64)"
      ]
     },
     "execution_count": 68,
     "metadata": {},
     "output_type": "execute_result"
    }
   ],
   "source": [
    "confusion_matrix(y_test,y_pred)"
   ]
  },
  {
   "cell_type": "code",
   "execution_count": 69,
   "metadata": {},
   "outputs": [
    {
     "name": "stdout",
     "output_type": "stream",
     "text": [
      "Accuracy 0.664683264310472\n",
      "F1 score: 0.5399291242190795\n",
      "              precision    recall  f1-score   support\n",
      "\n",
      "           0       0.79      0.77      0.78     80727\n",
      "           1       0.51      0.64      0.57     50571\n",
      "           2       0.46      0.50      0.48     41477\n",
      "           3       0.76      0.86      0.81     89210\n",
      "           4       0.35      0.03      0.06     28257\n",
      "\n",
      "    accuracy                           0.66    290242\n",
      "   macro avg       0.58      0.56      0.54    290242\n",
      "weighted avg       0.64      0.66      0.64    290242\n",
      "\n"
     ]
    }
   ],
   "source": [
    "x_pred=grad.predict(x_train)\n",
    "print(\"Accuracy\",accuracy_score(y_train,x_pred))\n",
    "print(\"F1 score:\",f1_score(y_train,x_pred,average='macro'))\n",
    "print(classification_report(y_train,x_pred))"
   ]
  },
  {
   "cell_type": "markdown",
   "metadata": {},
   "source": [
    "# e. KNN"
   ]
  },
  {
   "cell_type": "code",
   "execution_count": 70,
   "metadata": {},
   "outputs": [],
   "source": [
    "from sklearn.neighbors import KNeighborsClassifier\n",
    "#find optimum k- value.We have to create model with varied k values\n",
    "acc_values=[]\n",
    "neighbors=np.arange(3,15) #taking values 3 to 15 into a variable\n",
    "\n",
    "#loop to ceate KNN model for each k-value\n",
    "for k in neighbors:\n",
    "    classifier=KNeighborsClassifier(n_neighbors=k,metric='minkowski')#instance of KNN to variable\n",
    "    classifier.fit(x_train,y_train)\n",
    "    y_pred=classifier.predict(x_test)\n",
    "    #append accuracy values to acc_values to find out the maximum accuracy\n",
    "    acc=accuracy_score(y_test,y_pred)\n",
    "    acc_values.append(acc)"
   ]
  },
  {
   "cell_type": "code",
   "execution_count": 71,
   "metadata": {},
   "outputs": [
    {
     "data": {
      "text/plain": [
       "[0.5860724080428881,\n",
       " 0.6030512258651342,\n",
       " 0.6167224817739557,\n",
       " 0.6234065131406679,\n",
       " 0.6262592852909965,\n",
       " 0.6341974338832155,\n",
       " 0.6372018026212428,\n",
       " 0.6395722219925304,\n",
       " 0.64221827152327,\n",
       " 0.6442165901792974,\n",
       " 0.6459117156599276,\n",
       " 0.6460219677237083]"
      ]
     },
     "execution_count": 71,
     "metadata": {},
     "output_type": "execute_result"
    }
   ],
   "source": [
    "acc_values"
   ]
  },
  {
   "cell_type": "code",
   "execution_count": 72,
   "metadata": {},
   "outputs": [
    {
     "data": {
      "text/plain": [
       "Text(0, 0.5, 'Accuracy')"
      ]
     },
     "execution_count": 72,
     "metadata": {},
     "output_type": "execute_result"
    },
    {
     "data": {
      "image/png": "[encoded data removed]",
      "text/plain": [
       "<Figure size 432x288 with 1 Axes>"
      ]
     },
     "metadata": {},
     "output_type": "display_data"
    }
   ],
   "source": [
    "#find correspomd k value corresponding to highest accuracy\n",
    "plt.plot(neighbors,acc_values,'o-')\n",
    "plt.xlabel('k-value')\n",
    "plt.ylabel('Accuracy')"
   ]
  },
  {
   "cell_type": "code",
   "execution_count": 73,
   "metadata": {},
   "outputs": [],
   "source": [
    "\n",
    "knn=KNeighborsClassifier(n_neighbors=14,metric='minkowski')#instance of KNN to variable\n",
    "knn.fit(x_train,y_train)\n",
    "y_pred=knn.predict(x_test)"
   ]
  },
  {
   "cell_type": "code",
   "execution_count": 74,
   "metadata": {},
   "outputs": [
    {
     "name": "stdout",
     "output_type": "stream",
     "text": [
      "accuracy is:  0.6460219677237083\n",
      "precision is :  0.5490545566016067\n",
      "recall is :  0.5429500762512044\n",
      "f1 score is :  0.532992445637307\n"
     ]
    }
   ],
   "source": [
    "print('accuracy is: ',accuracy_score(y_test,y_pred))\n",
    "print('precision is : ',precision_score(y_test,y_pred,average='macro'))\n",
    "print('recall is : ',recall_score(y_test,y_pred,average='macro'))\n",
    "print('f1 score is : ',f1_score(y_test,y_pred,average='macro'))"
   ]
  },
  {
   "cell_type": "code",
   "execution_count": 75,
   "metadata": {},
   "outputs": [
    {
     "data": {
      "text/plain": [
       "array([[15394,  1176,  1774,  1101,   729],\n",
       "       [  414,  7499,  1359,  3174,   141],\n",
       "       [ 1569,  2538,  4331,  1389,   548],\n",
       "       [  175,  2734,   348, 19042,    41],\n",
       "       [ 2881,  1051,  1905,   638,   610]], dtype=int64)"
      ]
     },
     "execution_count": 75,
     "metadata": {},
     "output_type": "execute_result"
    }
   ],
   "source": [
    "confusion_matrix(y_test,y_pred)"
   ]
  },
  {
   "cell_type": "code",
   "execution_count": 76,
   "metadata": {},
   "outputs": [
    {
     "name": "stdout",
     "output_type": "stream",
     "text": [
      "Accuracy 0.6758256902860371\n",
      "F1 score: 0.5770035114230514\n",
      "              precision    recall  f1-score   support\n",
      "\n",
      "           0       0.78      0.79      0.78     80727\n",
      "           1       0.53      0.63      0.58     50571\n",
      "           2       0.50      0.47      0.48     41477\n",
      "           3       0.76      0.86      0.81     89210\n",
      "           4       0.50      0.15      0.23     28257\n",
      "\n",
      "    accuracy                           0.68    290242\n",
      "   macro avg       0.61      0.58      0.58    290242\n",
      "weighted avg       0.66      0.68      0.66    290242\n",
      "\n"
     ]
    }
   ],
   "source": [
    "x_pred=knn.predict(x_train)\n",
    "print(\"Accuracy\",accuracy_score(y_train,x_pred))\n",
    "print(\"F1 score:\",f1_score(y_train,x_pred,average='macro'))\n",
    "print(classification_report(y_train,x_pred))"
   ]
  },
  {
   "cell_type": "markdown",
   "metadata": {},
   "source": [
    "# Important features"
   ]
  },
  {
   "cell_type": "code",
   "execution_count": 77,
   "metadata": {},
   "outputs": [
    {
     "data": {
      "text/plain": [
       "Effectiveness    90.731582\n",
       "EaseofUse         9.188589\n",
       "Drug              0.025676\n",
       "Condition         0.022322\n",
       "Age               0.020945\n",
       "Race              0.007201\n",
       "Sex               0.003685\n",
       "dtype: float64"
      ]
     },
     "execution_count": 77,
     "metadata": {},
     "output_type": "execute_result"
    }
   ],
   "source": [
    "pd.Series(grad.feature_importances_,index=x.columns).sort_values(ascending=False)*100"
   ]
  },
  {
   "cell_type": "markdown",
   "metadata": {},
   "source": [
    "# Model fine tuning"
   ]
  },
  {
   "cell_type": "code",
   "execution_count": 86,
   "metadata": {},
   "outputs": [],
   "source": [
    "gradb= GradientBoostingClassifier(learning_rate=0.1, n_estimators=500,max_depth=3, min_samples_split=2, min_samples_leaf=1, subsample=1,max_features='sqrt', random_state=10)\n",
    "gradb.fit(x_train,y_train)\n",
    "y_pred=gradb.predict(x_test)"
   ]
  },
  {
   "cell_type": "code",
   "execution_count": 87,
   "metadata": {},
   "outputs": [
    {
     "name": "stdout",
     "output_type": "stream",
     "text": [
      "accuracy is:  0.6675349016689406\n",
      "precision is :  0.5838175210081278\n",
      "recall is :  0.5675979456282743\n",
      "f1 score is :  0.5507948335494665\n"
     ]
    }
   ],
   "source": [
    "print('accuracy is: ',accuracy_score(y_test,y_pred))\n",
    "print('precision is : ',precision_score(y_test,y_pred,average='macro'))\n",
    "print('recall is : ',recall_score(y_test,y_pred,average='macro'))\n",
    "print('f1 score is : ',f1_score(y_test,y_pred,average='macro'))"
   ]
  },
  {
   "cell_type": "code",
   "execution_count": 88,
   "metadata": {},
   "outputs": [
    {
     "data": {
      "text/plain": [
       "array([[15341,  1187,  2072,  1110,   464],\n",
       "       [  149,  8064,  1418,  2937,    19],\n",
       "       [  926,  2519,  5356,  1365,   209],\n",
       "       [  124,  2659,   285, 19262,    10],\n",
       "       [ 2696,  1007,  2341,   627,   414]], dtype=int64)"
      ]
     },
     "execution_count": 88,
     "metadata": {},
     "output_type": "execute_result"
    }
   ],
   "source": [
    "confusion_matrix(y_test,y_pred)"
   ]
  },
  {
   "cell_type": "code",
   "execution_count": 89,
   "metadata": {},
   "outputs": [
    {
     "name": "stdout",
     "output_type": "stream",
     "text": [
      "Accuracy 0.6655859593029265\n",
      "F1 score: 0.5513906655120905\n",
      "              precision    recall  f1-score   support\n",
      "\n",
      "           0       0.80      0.76      0.78     80727\n",
      "           1       0.51      0.64      0.57     50571\n",
      "           2       0.46      0.51      0.48     41477\n",
      "           3       0.76      0.86      0.81     89210\n",
      "           4       0.41      0.07      0.12     28257\n",
      "\n",
      "    accuracy                           0.67    290242\n",
      "   macro avg       0.59      0.57      0.55    290242\n",
      "weighted avg       0.65      0.67      0.64    290242\n",
      "\n"
     ]
    }
   ],
   "source": [
    "x_pred=gradb.predict(x_train)\n",
    "print(\"Accuracy\",accuracy_score(y_train,x_pred))\n",
    "print(\"F1 score:\",f1_score(y_train,x_pred,average='macro'))\n",
    "print(classification_report(y_train,x_pred))"
   ]
  },
  {
   "cell_type": "markdown",
   "metadata": {},
   "source": [
    "# Conclusion"
   ]
  },
  {
   "cell_type": "markdown",
   "metadata": {},
   "source": [
    "From modeling, Gradient boosting shows higher accuracy so we build classifier of this model.\n",
    ". People of age group 41-50 is healthier compared to other age groups.\n",
    ". Female has more side effects than male.\n",
    ". In side effect 'no side effects' has more count compared to other side effects\n",
    "  i.e, drugs shows no side effect in most of the people.\n",
    ". In Race white peoples are more healthier.\n",
    ". People use drugs for the condition'Pain'.\n",
    ". lexapro is the most used drug."
   ]
  },
  {
   "cell_type": "code",
   "execution_count": null,
   "metadata": {},
   "outputs": [],
   "source": []
  }
 ],
 "metadata": {
  "kernelspec": {
   "display_name": "Python 3",
   "language": "python",
   "name": "python3"
  },
  "language_info": {
   "codemirror_mode": {
    "name": "ipython",
    "version": 3
   },
   "file_extension": ".py",
   "mimetype": "text/x-python",
   "name": "python",
   "nbconvert_exporter": "python",
   "pygments_lexer": "ipython3",
   "version": "3.7.6"
  }
 },
 "nbformat": 4,
 "nbformat_minor": 4
}
